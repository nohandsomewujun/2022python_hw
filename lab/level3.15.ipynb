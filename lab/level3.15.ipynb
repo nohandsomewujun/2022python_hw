{
 "cells": [
  {
   "cell_type": "markdown",
   "metadata": {},
   "source": [
    "<a href=\"https://colab.research.google.com/github/nohandsomewujun/2022python_hw/blob/main/lab/level3.15.ipynb\" target=\"_parent\"><img src=\"https://colab.research.google.com/assets/colab-badge.svg\" alt=\"Open In Colab\"/></a>"
   ]
  },
  {
   "cell_type": "markdown",
   "metadata": {},
   "source": [
    "# level3.15 code\n",
    "本次实验使用了python的faceswap相关工具实现了将视频中自己的脸换成脸钢铁侠的脸。替换的结果在同目录的mp4文件夹下，里面包含了原视频，替换的人脸和替换后的视频。\n",
    "*因为深度学习自己实现起来比较困难，而且也不是大作业，所以这里就直接用了别人训练好的模型。*\n",
    "（如果要运行复现的话建议在Google colab里面打开此文件，当然本地也类似）"
   ]
  },
  {
   "cell_type": "markdown",
   "metadata": {},
   "source": [
    "## 准备工作（方便助教小哥哥复现代码结果"
   ]
  },
  {
   "cell_type": "markdown",
   "metadata": {},
   "source": [
    "**一定要确保runtime的设置里面是在GPU下运行的！！！否则可能会出错**\n",
    "（如果在本地跑的话将指令前的`!`换成`%`，建议还是在colab下打开）"
   ]
  },
  {
   "cell_type": "code",
   "execution_count": null,
   "metadata": {},
   "outputs": [],
   "source": [
    "# 首先应当将这个Github上的项目拉到本地\n",
    "!git clone https://github.com/neuralchen/SimSwap\n",
    "!cd SimSwap && git pull"
   ]
  },
  {
   "cell_type": "code",
   "execution_count": null,
   "metadata": {},
   "outputs": [],
   "source": [
    "# 安装相关依赖\n",
    "!pip install insightface==0.2.1 onnxruntime moviepy\n",
    "!pip install googledrivedownloader\n",
    "!pip install imageio==2.4.1"
   ]
  },
  {
   "cell_type": "code",
   "execution_count": null,
   "metadata": {},
   "outputs": [],
   "source": [
    "import os\n",
    "os.chdir(\"SimSwap\")\n",
    "!ls"
   ]
  },
  {
   "cell_type": "markdown",
   "metadata": {},
   "source": [
    "利用Googledrive将别人训练好的模型下载下来"
   ]
  },
  {
   "cell_type": "code",
   "execution_count": null,
   "metadata": {},
   "outputs": [],
   "source": [
    "from google_drive_downloader import GoogleDriveDownloader\n",
    "\n",
    "!wget -P ./arcface_model https://github.com/neuralchen/SimSwap/releases/download/1.0/arcface_checkpoint.tar\n",
    "!wget https://github.com/neuralchen/SimSwap/releases/download/1.0/checkpoints.zip\n",
    "!unzip ./checkpoints.zip  -d ./checkpoints\n",
    "!wget -P ./parsing_model/checkpoint https://github.com/neuralchen/SimSwap/releases/download/1.0/79999_iter.pth"
   ]
  },
  {
   "cell_type": "code",
   "execution_count": null,
   "metadata": {},
   "outputs": [],
   "source": [
    "!wget --no-check-certificate \"https://sh23tw.dm.files.1drv.com/y4mmGiIkNVigkSwOKDcV3nwMJulRGhbtHdkheehR5TArc52UjudUYNXAEvKCii2O5LAmzGCGK6IfleocxuDeoKxDZkNzDRSt4ZUlEt8GlSOpCXAFEkBwaZimtWGDRbpIGpb_pz9Nq5jATBQpezBS6G_UtspWTkgrXHHxhviV2nWy8APPx134zOZrUIbkSF6xnsqzs3uZ_SEX_m9Rey0ykpx9w\" -O antelope.zip\n",
    "!unzip ./antelope.zip -d ./insightface_func/models/"
   ]
  },
  {
   "cell_type": "markdown",
   "metadata": {},
   "source": [
    "## 利用model开始运算"
   ]
  },
  {
   "cell_type": "code",
   "execution_count": null,
   "metadata": {},
   "outputs": [],
   "source": [
    "import cv2\n",
    "import torch\n",
    "import fractions\n",
    "import numpy as np\n",
    "from PIL import Image\n",
    "import torch.nn.functional as F\n",
    "from torchvision import transforms\n",
    "from models.models import create_model\n",
    "from options.test_options import TestOptions\n",
    "from insightface_func.face_detect_crop_multi import Face_detect_crop\n",
    "from util.videoswap import video_swap\n",
    "from util.add_watermark import watermark_image"
   ]
  },
  {
   "cell_type": "code",
   "execution_count": null,
   "metadata": {},
   "outputs": [],
   "source": [
    "transformer = transforms.Compose([\n",
    "        transforms.ToTensor(),\n",
    "    ])\n",
    "\n",
    "transformer_Arcface = transforms.Compose([\n",
    "        transforms.ToTensor(),\n",
    "        transforms.Normalize([0.485, 0.456, 0.406], [0.229, 0.224, 0.225])\n",
    "    ])\n",
    "\n",
    "detransformer = transforms.Compose([\n",
    "        transforms.Normalize([0, 0, 0], [1/0.229, 1/0.224, 1/0.225]),\n",
    "        transforms.Normalize([-0.485, -0.456, -0.406], [1, 1, 1])\n",
    "    ])"
   ]
  },
  {
   "cell_type": "code",
   "execution_count": null,
   "metadata": {},
   "outputs": [],
   "source": [
    "opt = TestOptions()\n",
    "opt.initialize()\n",
    "opt.parser.add_argument('-f')\n",
    "opt = opt.parse()\n",
    "opt.pic_a_path = './demo_file/Iron_man.jpg'  # 这里为人脸的图片\n",
    "opt.video_path = './demo_file/3.mp4'  # 这里为你要替换的视频\n",
    "opt.output_path = './output/3iron.mp4'  # 输出保存路径\n",
    "opt.temp_path = './tmp'\n",
    "opt.Arc_path = './arcface_model/arcface_checkpoint.tar'\n",
    "opt.isTrain = False\n",
    "opt.use_mask = True\n",
    "\n",
    "crop_size = opt.crop_size\n",
    "\n",
    "torch.nn.Module.dump_patches = True\n",
    "model = create_model(opt)\n",
    "model.eval()\n",
    "\n",
    "app = Face_detect_crop(name='antelope', root='./insightface_func/models')\n",
    "app.prepare(ctx_id=0, det_thresh=0.6, det_size=(640, 640))\n",
    "\n",
    "with torch.no_grad():\n",
    "    pic_a = opt.pic_a_path\n",
    "    img_a_whole = cv2.imread(pic_a)\n",
    "    img_a_align_crop, _ = app.get(img_a_whole, crop_size)\n",
    "    img_a_align_crop_pil = Image.fromarray(\n",
    "        cv2.cvtColor(img_a_align_crop[0], cv2.COLOR_BGR2RGB))\n",
    "    img_a = transformer_Arcface(img_a_align_crop_pil)\n",
    "    img_id = img_a.view(-1, img_a.shape[0], img_a.shape[1], img_a.shape[2])\n",
    "    img_id = img_id.cuda()\n",
    "    img_id_downsample = F.interpolate(img_id, size=(112, 112))\n",
    "    latend_id = model.netArc(img_id_downsample)\n",
    "    latend_id = latend_id.detach().to('cpu')\n",
    "    latend_id = latend_id/np.linalg.norm(latend_id, axis=1, keepdims=True)\n",
    "    latend_id = latend_id.to('cuda')\n",
    "\n",
    "    video_swap(opt.video_path, latend_id, model, app, opt.output_path,\n",
    "               temp_results_dir=opt.temp_path, use_mask=opt.use_mask)\n"
   ]
  },
  {
   "cell_type": "markdown",
   "metadata": {},
   "source": [
    "如果不出意外的话一路点运行应该就可以了（"
   ]
  }
 ],
 "metadata": {
  "language_info": {
   "name": "python"
  },
  "orig_nbformat": 4
 },
 "nbformat": 4,
 "nbformat_minor": 2
}
