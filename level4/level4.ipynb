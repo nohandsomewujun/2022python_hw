{
 "cells": [
  {
   "cell_type": "markdown",
   "metadata": {},
   "source": [
    "# level4 --- face_recognition\n",
    "\n",
    "---\n"
   ]
  },
  {
   "cell_type": "markdown",
   "metadata": {},
   "source": [
    "本项目按照老师的要求将一个 Github 上感兴趣的项目运行起来，在这里我选择的是[face_recognition](https://github.com/ageitgey/face_recognition)这个项目，在这份 notebook 里我将会运行它大部分功能。\n"
   ]
  },
  {
   "cell_type": "markdown",
   "metadata": {},
   "source": [
    "## Install\n"
   ]
  },
  {
   "cell_type": "markdown",
   "metadata": {},
   "source": [
    "为了方便助教检查，在这里列出这个项目的安装步骤。\n",
    "**注意该项目官方支持 linux 和 MacOS 环境，在 windows 下可能无法运行!!!**\n",
    "首先利用`conda`创建本次项目所需的虚拟环境：\n",
    "\n",
    "```bash\n",
    "create -n face_recognition python=3.8\n",
    "conda activate face_recognition\n",
    "```\n"
   ]
  },
  {
   "cell_type": "markdown",
   "metadata": {},
   "source": [
    "安装这个项目之前需要安装编译`dlib`这个`c++`库：\n",
    "\n",
    "```bash\n",
    "git clone https://github.com/davisking/dlib.git\n",
    "cd dlib\n",
    "mkdir build; cd build; cmake ..; cmake --build .\n",
    "cd ..\n",
    "python3 setup.py install\n",
    "```\n"
   ]
  },
  {
   "cell_type": "markdown",
   "metadata": {},
   "source": [
    "在安装好`dlib`后使用：\n",
    "\n",
    "```bash\n",
    "pip3 install face_recognition\n",
    "```\n",
    "\n",
    "(如果上述过程中遇到问题可能是未安装 cmake)\n"
   ]
  },
  {
   "cell_type": "markdown",
   "metadata": {},
   "source": [
    "## run examples\n"
   ]
  },
  {
   "cell_type": "markdown",
   "metadata": {},
   "source": [
    "### 找到图片中所有的人脸\n"
   ]
  },
  {
   "cell_type": "code",
   "execution_count": 12,
   "metadata": {},
   "outputs": [],
   "source": [
    "import face_recognition\n",
    "from PIL import Image, ImageDraw\n"
   ]
  },
  {
   "cell_type": "code",
   "execution_count": null,
   "metadata": {},
   "outputs": [],
   "source": [
    "image = face_recognition.load_image_file('./images/合照_军训.png')\n",
    "face_locations = face_recognition.face_locations(image)\n"
   ]
  },
  {
   "cell_type": "code",
   "execution_count": 10,
   "metadata": {},
   "outputs": [
    {
     "name": "stdout",
     "output_type": "stream",
     "text": [
      "找到3张脸\n"
     ]
    }
   ],
   "source": [
    "print(\"找到\" + str(len(face_locations)) + \"张脸\")\n"
   ]
  },
  {
   "cell_type": "markdown",
   "metadata": {},
   "source": [
    "下面代码将识别内容以图片形式呈现出来\n"
   ]
  },
  {
   "cell_type": "code",
   "execution_count": 11,
   "metadata": {},
   "outputs": [],
   "source": [
    "for face_location in face_locations:\n",
    "    # 将脸显示出来\n",
    "    top, right, bottom, left = face_location\n",
    "    face_image = image[top:bottom, left:right]\n",
    "    pil_image = Image.fromarray(face_image)\n",
    "    pil_image.show()\n"
   ]
  },
  {
   "cell_type": "markdown",
   "metadata": {},
   "source": [
    "（图片来源是我宿舍的几个好大儿）\n"
   ]
  },
  {
   "cell_type": "markdown",
   "metadata": {},
   "source": [
    "### 找到图片中人脸的特征\n"
   ]
  },
  {
   "cell_type": "code",
   "execution_count": 13,
   "metadata": {},
   "outputs": [],
   "source": [
    "image = face_recognition.load_image_file('./images/Iron_man.jpg')\n",
    "face_landmarks_list = face_recognition.face_landmarks(image)\n"
   ]
  },
  {
   "cell_type": "code",
   "execution_count": 15,
   "metadata": {},
   "outputs": [
    {
     "name": "stdout",
     "output_type": "stream",
     "text": [
      "找到1张脸\n"
     ]
    }
   ],
   "source": [
    "print(\"找到{}张脸\".format(len(face_landmarks_list)))\n"
   ]
  },
  {
   "cell_type": "markdown",
   "metadata": {},
   "source": [
    "下面的代码将面部特征给绘制出来\n"
   ]
  },
  {
   "cell_type": "code",
   "execution_count": 16,
   "metadata": {},
   "outputs": [
    {
     "name": "stdout",
     "output_type": "stream",
     "text": [
      "特征chin坐标为[(165, 581), (180, 641), (200, 697), (224, 752), (250, 805), (286, 853), (325, 896), (372, 931), (431, 933), (490, 917), (538, 871), (578, 815), (610, 754), (626, 685), (628, 615), (623, 544), (614, 476)]\n",
      "特征left_eyebrow坐标为[(170, 562), (191, 529), (230, 522), (273, 523), (318, 530)]\n",
      "特征right_eyebrow坐标为[(358, 517), (406, 494), (455, 475), (506, 472), (550, 494)]\n",
      "特征nose_bridge坐标为[(347, 561), (351, 610), (355, 659), (360, 708)]\n",
      "特征nose_tip坐标为[(332, 733), (352, 742), (376, 745), (400, 732), (421, 719)]\n",
      "特征left_eye坐标为[(223, 581), (242, 563), (273, 559), (304, 575), (276, 588), (246, 593)]\n",
      "特征right_eye坐标为[(420, 555), (443, 529), (476, 523), (504, 533), (484, 552), (452, 558)]\n",
      "特征top_lip坐标为[(315, 810), (339, 807), (364, 802), (386, 805), (409, 795), (445, 791), (484, 783), (471, 788), (414, 808), (390, 816), (368, 815), (327, 813)]\n",
      "特征bottom_lip坐标为[(484, 783), (457, 814), (424, 830), (399, 836), (376, 837), (347, 832), (315, 810), (327, 813), (370, 812), (393, 813), (417, 805), (471, 788)]\n"
     ]
    }
   ],
   "source": [
    "pil_image = Image.fromarray(image)\n",
    "d = ImageDraw.Draw(pil_image)\n",
    "for face_landmarks in face_landmarks_list:\n",
    "    for face_feature in face_landmarks.keys():\n",
    "        print(\"特征{}坐标为{}\".format(face_feature, face_landmarks[face_feature]))\n",
    "    # 在图片中把特征标注出来、\n",
    "    for face_feature in face_landmarks.keys():\n",
    "        d.line(face_landmarks[face_feature], width=5)\n"
   ]
  },
  {
   "cell_type": "code",
   "execution_count": 18,
   "metadata": {},
   "outputs": [],
   "source": [
    "# 将图片绘制出来\n",
    "pil_image.show()\n"
   ]
  },
  {
   "cell_type": "markdown",
   "metadata": {},
   "source": [
    "### 识别出图片中的人物的名称"
   ]
  },
  {
   "cell_type": "code",
   "execution_count": 19,
   "metadata": {},
   "outputs": [],
   "source": [
    "Iron_man_image = face_recognition.load_image_file('./images/Iron_man.jpg')\n",
    "Tom_Cruise_image = face_recognition.load_image_file('./images/Tom_Cruise.png')\n",
    "Tom_Hanks_image = face_recognition.load_image_file('./images/Tom_Hanks.png')"
   ]
  },
  {
   "cell_type": "code",
   "execution_count": 20,
   "metadata": {},
   "outputs": [],
   "source": [
    "try:\n",
    "    Iron_man_encoding = face_recognition.face_encodings(Iron_man_image)[0]\n",
    "    Tom_Cruise_encoding = face_recognition.face_encodings(Tom_Cruise_image)[0]\n",
    "    Tom_Hanks_encoding = face_recognition.face_encodings(Tom_Hanks_image)[0]\n",
    "except IndexError:\n",
    "    print(\"unable to load face\")"
   ]
  },
  {
   "cell_type": "code",
   "execution_count": 23,
   "metadata": {},
   "outputs": [],
   "source": [
    "known_faces = [\n",
    "    Iron_man_encoding,\n",
    "    Tom_Cruise_encoding,\n",
    "    Tom_Hanks_encoding\n",
    "]"
   ]
  },
  {
   "cell_type": "code",
   "execution_count": 28,
   "metadata": {},
   "outputs": [],
   "source": [
    "known_names = [\n",
    "    'Iron_man',\n",
    "    'Tom_Cruise',\n",
    "    'Tom_Hanks'\n",
    "]"
   ]
  },
  {
   "cell_type": "code",
   "execution_count": 21,
   "metadata": {},
   "outputs": [],
   "source": [
    "unknown_face_image = face_recognition.load_image_file('./images/unknown_images/Tom_Cruise_2.png')\n",
    "try:\n",
    "    unknown_face_encoding = face_recognition.face_encodings(unknown_face_image)[0]\n",
    "except IndexError:\n",
    "    print('unable to load face')"
   ]
  },
  {
   "cell_type": "code",
   "execution_count": 29,
   "metadata": {},
   "outputs": [
    {
     "name": "stdout",
     "output_type": "stream",
     "text": [
      "It is Tom_Cruise's face\n"
     ]
    }
   ],
   "source": [
    "results = face_recognition.compare_faces(known_faces, unknown_face_encoding)\n",
    "for i in range(len(results)):\n",
    "    if results[i] == 1:\n",
    "        print(\"It is {}'s face\".format(known_names[i]))"
   ]
  },
  {
   "cell_type": "markdown",
   "metadata": {},
   "source": [
    "以上为该项目的基本功能，经测试全部通过。"
   ]
  }
 ],
 "metadata": {
  "interpreter": {
   "hash": "342141cab00e2e38e954374bafe8b36b23d4f4d3addf5986c54dcd5399a200b3"
  },
  "kernelspec": {
   "display_name": "Python 3.8.13 ('face_recognition')",
   "language": "python",
   "name": "python3"
  },
  "language_info": {
   "codemirror_mode": {
    "name": "ipython",
    "version": 3
   },
   "file_extension": ".py",
   "mimetype": "text/x-python",
   "name": "python",
   "nbconvert_exporter": "python",
   "pygments_lexer": "ipython3",
   "version": "3.8.13"
  },
  "orig_nbformat": 4
 },
 "nbformat": 4,
 "nbformat_minor": 2
}
